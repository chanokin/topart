{
 "cells": [
  {
   "cell_type": "code",
   "execution_count": 1,
   "metadata": {},
   "outputs": [],
   "source": [
    "import numpy"
   ]
  },
  {
   "cell_type": "code",
   "execution_count": null,
   "metadata": {},
   "outputs": [],
   "source": [
    "def complement_code(x):\n",
    "    return numpy.concatenate((x, 1 - x))\n",
    "\n",
    "\n",
    "def fuzzy_intersection(a, b):\n",
    "    return numpy.minimum(a, b)\n",
    "\n",
    "\n",
    "def norm(x):\n",
    "    return numpy.abs(x).sum()\n",
    "\n",
    "\n",
    "def choice_j(x, w_j, alpha):\n",
    "    inter = fuzzy_intersection(x, w_j)\n",
    "    return norm(inter) / (norm(w_j) + alpha)\n",
    "\n",
    "\n",
    "def resonates(x, w_j, rho):\n",
    "    fitness = choice_j(x, w_j, 0)\n",
    "    return fitness >= rho\n",
    "\n",
    "\n",
    "def weight_update(x, w_j, beta):\n",
    "    return (1 - beta) * w_j + beta * fuzzy_intersection(x, w_j)\n",
    "\n",
    "\n",
    "def spike(x, winner):\n",
    "    spk = numpy.zeros(x.shape)\n",
    "    spk[winner] = 1\n",
    "    return spk\n"
   ]
  }
 ],
 "metadata": {
  "kernelspec": {
   "display_name": ".venv",
   "language": "python",
   "name": "python3"
  },
  "language_info": {
   "codemirror_mode": {
    "name": "ipython",
    "version": 3
   },
   "file_extension": ".py",
   "mimetype": "text/x-python",
   "name": "python",
   "nbconvert_exporter": "python",
   "pygments_lexer": "ipython3",
   "version": "3.10.12"
  }
 },
 "nbformat": 4,
 "nbformat_minor": 2
}
