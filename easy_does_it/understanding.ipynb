{
 "cells": [
  {
   "cell_type": "code",
   "execution_count": 1,
   "metadata": {},
   "outputs": [],
   "source": [
    "import numpy"
   ]
  },
  {
   "cell_type": "code",
   "execution_count": null,
   "metadata": {},
   "outputs": [],
   "source": [
    "def fuzzy_intersection(a, b):\n",
    "    return numpy.minimum(a, b)\n",
    "\n",
    "def norm(x):\n",
    "    return numpy.abs(x).sum()\n",
    "\n",
    "def choice_i(x, w_i, alpha):\n",
    "    inter = fuzzy_intersection(x, w_i)\n",
    "    return norm(inter) / (norm(w_i) + alpha)\n",
    "\n",
    "def resonates(x, w_i, rho):\n",
    "    fitness = choice_i(x, w_i, 0)\n",
    "    return fitness >= rho"
   ]
  }
 ],
 "metadata": {
  "kernelspec": {
   "display_name": ".venv",
   "language": "python",
   "name": "python3"
  },
  "language_info": {
   "codemirror_mode": {
    "name": "ipython",
    "version": 3
   },
   "file_extension": ".py",
   "mimetype": "text/x-python",
   "name": "python",
   "nbconvert_exporter": "python",
   "pygments_lexer": "ipython3",
   "version": "3.10.12"
  }
 },
 "nbformat": 4,
 "nbformat_minor": 2
}
